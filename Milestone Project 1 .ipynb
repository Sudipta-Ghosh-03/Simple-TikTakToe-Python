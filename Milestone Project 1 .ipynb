{
 "cells": [
  {
   "cell_type": "code",
   "execution_count": 1,
   "id": "dab8a212",
   "metadata": {},
   "outputs": [],
   "source": [
    "import os\n",
    "from IPython.display import clear_output"
   ]
  },
  {
   "cell_type": "code",
   "execution_count": 2,
   "id": "ac3bac4a",
   "metadata": {},
   "outputs": [],
   "source": [
    "def update(x, n, y):\n",
    "    x[n] = y"
   ]
  },
  {
   "cell_type": "code",
   "execution_count": 3,
   "id": "f2088525",
   "metadata": {},
   "outputs": [],
   "source": [
    "def display_board(x, m, n):\n",
    "    clear_output()\n",
    "    print(f'{x[1]} | {x[2]} | {x[3]}')\n",
    "    print('_ _ _ _ _')\n",
    "    print(f'{x[4]} | {x[5]} | {x[6]}')\n",
    "    print('_ _ _ _ _')\n",
    "    print(f'{x[7]} | {x[8]} | {x[9]}')\n",
    "    print('\\nPlayer 1: '+m)\n",
    "    print('\\nPlayer 2: '+n)\n",
    "    "
   ]
  },
  {
   "cell_type": "code",
   "execution_count": 4,
   "id": "d72eed37",
   "metadata": {},
   "outputs": [],
   "source": [
    "def game_input(turn):\n",
    "    choice = ''\n",
    "        \n",
    "    while choice not in game_choice:\n",
    "        choice = input(f'Player {turn}, enter a postion from 1 - 9: ')\n",
    "        \n",
    "        if choice not in game_choice:\n",
    "            print(\"Invalid choice\")\n",
    "        \n",
    "    return int(choice)"
   ]
  },
  {
   "cell_type": "code",
   "execution_count": 5,
   "id": "f3155076",
   "metadata": {},
   "outputs": [],
   "source": [
    "def symbol_choice():\n",
    "    choice = ''\n",
    "    while choice not in ['1','2']:\n",
    "        choice = input('Player 1 chose your symbol (1/2): \\n1. O \\n2. X\\n')\n",
    "        \n",
    "        if choice not in ['1','2']:\n",
    "            print(\"Invalid choice\")\n",
    "        \n",
    "    return choice"
   ]
  },
  {
   "cell_type": "code",
   "execution_count": 6,
   "id": "7d7b5df3",
   "metadata": {},
   "outputs": [],
   "source": [
    "def win_chk(x):\n",
    "    return((x[1] == x[2] == x[3]) or\n",
    "           (x[4] == x[5] == x[6] )or\n",
    "           (x[7] == x[8] == x[9]) or\n",
    "           (x[7] == x[4] == x[1]) or\n",
    "           (x[8] == x[5] == x[2]) or\n",
    "           (x[9] == x[6] == x[3]) or\n",
    "           (x[7] == x[5] == x[3]) or    \n",
    "           (x[9] == x[5] == x[1]))"
   ]
  },
  {
   "cell_type": "code",
   "execution_count": 7,
   "id": "faa6efdc",
   "metadata": {},
   "outputs": [],
   "source": [
    "def replay():\n",
    "    choice = ''\n",
    "    avl = ['y', 'Y', 'n', 'N']\n",
    "    while choice not in avl:\n",
    "        choice = input('\\nPlay again? (y/n) :')\n",
    "        if choice not in avl:\n",
    "            print('Invalid choice')\n",
    "        \n",
    "    if choice == 'y' or choice == 'Y':\n",
    "        return True\n",
    "    else:\n",
    "        return False\n",
    "    \n",
    "    "
   ]
  },
  {
   "cell_type": "markdown",
   "id": "86b07057",
   "metadata": {},
   "source": [
    "## Main Body"
   ]
  },
  {
   "cell_type": "code",
   "execution_count": 8,
   "id": "d7ddbce9",
   "metadata": {},
   "outputs": [
    {
     "name": "stdout",
     "output_type": "stream",
     "text": [
      "O | X | 3\n",
      "_ _ _ _ _\n",
      "X | X | 6\n",
      "_ _ _ _ _\n",
      "O | O | O\n",
      "\n",
      "Player 1: O\n",
      "\n",
      "Player 2: X\n",
      "\n",
      "Player 1 won!\n",
      "\n",
      "Play again? (y/n) :n\n"
     ]
    }
   ],
   "source": [
    "game_on = True\n",
    "\n",
    "while game_on:\n",
    "    game_choice = ['filler','1','2','3','4','5','6','7','8','9']\n",
    "    board = game_choice\n",
    "    turn = 1\n",
    "    rounds = 0\n",
    "    P1mark = 'Pending decision'\n",
    "    P2mark = 'Pending decision'\n",
    "    inpuT = ''\n",
    "    win = False\n",
    "    display_board(board,P1mark,P2mark)\n",
    "    if symbol_choice() == '1':\n",
    "        P1mark = 'O'\n",
    "        P2mark = 'X'\n",
    "    else:\n",
    "        P1mark = 'X'\n",
    "        P2mark = 'O'\n",
    "    while not win and rounds <9:    \n",
    "        #player 1's turn\n",
    "        if turn == 1:\n",
    "            display_board(board,P1mark,P2mark)\n",
    "            update(board, game_input(turn), P1mark)\n",
    "            win = win_chk(board)\n",
    "            turn = 2\n",
    "        #player 2's turn\n",
    "        elif turn == 2:\n",
    "            display_board(board,P1mark,P2mark)\n",
    "            update(board, game_input(turn), P2mark)\n",
    "            win = win_chk(board)\n",
    "            turn = 1\n",
    "        rounds += 1\n",
    "    \n",
    "    if win:\n",
    "        if turn == 2:\n",
    "            display_board(board,P1mark,P2mark)\n",
    "            print('\\nPlayer 1 won!')\n",
    "        else:\n",
    "            display_board(board,P1mark,P2mark)\n",
    "            print('\\nPlayer 2 won')\n",
    "    else:\n",
    "        display_board(board,P1mark,P2mark)\n",
    "        print('\\nDraw match!')\n",
    "    \n",
    "    game_on = replay()\n",
    "            \n",
    "        \n",
    "        \n",
    "    \n",
    "        \n",
    "    \n",
    "    "
   ]
  },
  {
   "cell_type": "code",
   "execution_count": null,
   "id": "35c75018",
   "metadata": {},
   "outputs": [],
   "source": []
  }
 ],
 "metadata": {
  "kernelspec": {
   "display_name": "Python 3 (ipykernel)",
   "language": "python",
   "name": "python3"
  },
  "language_info": {
   "codemirror_mode": {
    "name": "ipython",
    "version": 3
   },
   "file_extension": ".py",
   "mimetype": "text/x-python",
   "name": "python",
   "nbconvert_exporter": "python",
   "pygments_lexer": "ipython3",
   "version": "3.10.2"
  }
 },
 "nbformat": 4,
 "nbformat_minor": 5
}
